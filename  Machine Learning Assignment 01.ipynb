{
 "cells": [
  {
   "cell_type": "code",
   "execution_count": null,
   "id": "89c8c08e",
   "metadata": {},
   "outputs": [],
   "source": [
    "1. What does one mean by the term \"machine learning\" ?"
   ]
  },
  {
   "cell_type": "markdown",
   "id": "aa02b5fe",
   "metadata": {},
   "source": [
    "#ans.\n",
    "Machine learning Popularly known as ML is a branch of Artificial Intelligence (AI) that allows software applications to become more accurate at predicting outcomes without being explicitly programmed to do so. Machine learning algorithms use historical data as input to predict new output values."
   ]
  },
  {
   "cell_type": "code",
   "execution_count": null,
   "id": "ee60168a",
   "metadata": {},
   "outputs": [],
   "source": [
    "2.Can you think of 4 distinct types of issues where it shines ?"
   ]
  },
  {
   "cell_type": "markdown",
   "id": "56d8e068",
   "metadata": {},
   "source": [
    "#ans.\n",
    " The following are some of the issues where Machine Learning can be used:\n",
    "\n",
    "1.Image Recognition: Image recognition is one of the most common applications of machine learning. It is used to identify objects, persons, places, digital images, etc. The popular use case of image recognition and face detection is Automatic friend tagging suggestion.\n",
    "\n",
    "2.Speech Recognition: While using Google, we get an option of Search by voice, it comes under speech recognition, and it's a popular application of Machine Learning. Speech recognition is a process of converting voice instructions into text, and it is also known as Speech to text, or Computer based speech recognition At present, machine learning algorithms are widely used by various applications of speech recognition. Google assistant, Siri, Cortana, and Alexa are using speech recognition technology to follow the voice instructions.\n",
    "\n",
    "3.Traffic prediction: It predicts the traffic conditions such as whether traffic is cleared, slow-moving, or heavily congested with the help of two ways: Real Time location of the vehicle form Google Map app and sensors Average time has taken on past days at the same time.\n",
    "\n",
    "4.Product recommendations: Machine learning is widely used by various e-commerce and entertainment companies such as Amazon, Netflix, etc., for product recommendation to the user."
   ]
  },
  {
   "cell_type": "code",
   "execution_count": null,
   "id": "51603169",
   "metadata": {},
   "outputs": [],
   "source": [
    "3.What is a labeled training set, and how does it work ?"
   ]
  },
  {
   "cell_type": "markdown",
   "id": "9c91549d",
   "metadata": {},
   "source": [
    "Ans.\n",
    "You split up the data containing known response variable values into two pieces. The training set is used to train the algorithm, and then you use the trained model on the test set to predict the response variable values that are already known."
   ]
  },
  {
   "cell_type": "code",
   "execution_count": null,
   "id": "7004fdb1",
   "metadata": {},
   "outputs": [],
   "source": [
    "4.What are the two most important tasks that are supervised ?"
   ]
  },
  {
   "cell_type": "markdown",
   "id": "50088db3",
   "metadata": {},
   "source": [
    "#ans.\n",
    "The two most common supervised learning tasks are Regression and Classification."
   ]
  },
  {
   "cell_type": "code",
   "execution_count": null,
   "id": "4c6b9d29",
   "metadata": {},
   "outputs": [],
   "source": [
    "5.Can you think of four examples of unsupervised tasks ?"
   ]
  },
  {
   "cell_type": "markdown",
   "id": "c04597d0",
   "metadata": {},
   "source": [
    "#ans.\n",
    "Four common Unsupervised Tasks included Clustering, Visualization, Dimensionality Reduction, and Association Rule Learning."
   ]
  },
  {
   "cell_type": "code",
   "execution_count": null,
   "id": "e3b257dd",
   "metadata": {},
   "outputs": [],
   "source": [
    "6.State the machine learning model that would be best to make a robot walk through various unfamiliar terrains ?"
   ]
  },
  {
   "cell_type": "markdown",
   "id": "3f85cd3a",
   "metadata": {},
   "source": [
    "#ans.\n",
    "The best Machine Learning algorithm to allow a Robot to walk in unfamiliar terrains is Reinforced Learning, where the robot can learn from response of the terrain to optimize itself."
   ]
  },
  {
   "cell_type": "code",
   "execution_count": null,
   "id": "660e4192",
   "metadata": {},
   "outputs": [],
   "source": [
    "7.Which algorithm will you use to divide your customers into different groups ?"
   ]
  },
  {
   "cell_type": "markdown",
   "id": "df3ea19d",
   "metadata": {},
   "source": [
    "#ans.\n",
    " The Best Algorithm to Segment Customers into different groups is either Supervised Learning (if the groups have known labels) or Unsupervised Learning (if there are no group labels)."
   ]
  },
  {
   "cell_type": "code",
   "execution_count": null,
   "id": "e0425a48",
   "metadata": {},
   "outputs": [],
   "source": [
    "8..Will you consider the problem of spam detection to be a supervised or unsupervised learning problem ?"
   ]
  },
  {
   "cell_type": "markdown",
   "id": "a0b13b15",
   "metadata": {},
   "source": [
    "#ans.\n",
    "Spam detection is a Supervised Machine Learning problem because the labels are known (spam or no spam)."
   ]
  },
  {
   "cell_type": "code",
   "execution_count": null,
   "id": "2b397c61",
   "metadata": {},
   "outputs": [],
   "source": [
    "9..What is the concept of an online learning system ?"
   ]
  },
  {
   "cell_type": "markdown",
   "id": "c871fb9b",
   "metadata": {},
   "source": [
    "#ans.\n",
    " Online learning system is a learning system in which the machine learns continously, as data is given in small streams continuously."
   ]
  },
  {
   "cell_type": "code",
   "execution_count": null,
   "id": "3d58d0cb",
   "metadata": {},
   "outputs": [],
   "source": [
    "10.What is out-of-core learning, and how does it differ from core learning ?"
   ]
  },
  {
   "cell_type": "markdown",
   "id": "3a052c2f",
   "metadata": {},
   "source": [
    "#ans.\n",
    "Out-of-core learning system is a system that can handle data that cannot fit into your computer memory. It uses online learning system to feed data in small bits."
   ]
  },
  {
   "cell_type": "code",
   "execution_count": null,
   "id": "f644cfa4",
   "metadata": {},
   "outputs": [],
   "source": [
    "11.What kind of learning algorithm makes predictions using a similarity measure ?"
   ]
  },
  {
   "cell_type": "markdown",
   "id": "17342f85",
   "metadata": {},
   "source": [
    "#ans.\n",
    "Learning algorithm that relies on a similarity measure to make predictions is Instance Based Algorithm."
   ]
  },
  {
   "cell_type": "code",
   "execution_count": null,
   "id": "218590ba",
   "metadata": {},
   "outputs": [],
   "source": [
    "12.What's the difference between a model parameter and a hyperparameter in a learning algorithm ?"
   ]
  },
  {
   "cell_type": "markdown",
   "id": "64c0ecda",
   "metadata": {},
   "source": [
    "#ans.\n",
    " Model parameter determines how a model will predict given a new instance. Model usually has more than one parameter (i.e. slope of a linear model). Hyperparameter is a parameter for the learning algorithm, not of a model."
   ]
  },
  {
   "cell_type": "markdown",
   "id": "a35f7450",
   "metadata": {},
   "source": [
    "13..What are the criteria that model-based learning algorithms look for? What is the most popular method they use to achieve success? What method do they use to make predictions ?"
   ]
  },
  {
   "cell_type": "code",
   "execution_count": null,
   "id": "e944b274",
   "metadata": {},
   "outputs": [],
   "source": [
    "14..Can you name four of the most important Machine Learning challenges ?"
   ]
  },
  {
   "cell_type": "markdown",
   "id": "7852d837",
   "metadata": {},
   "source": [
    "#ans.\n",
    " Four main challenges in Machine Learning include the following:\n",
    "\n",
    "Overfitting the Data (using a model too complicated)\n",
    "Underfitting the data (using a simple model)\n",
    "Lacking in Data\n",
    "Non Representative Data.\n"
   ]
  },
  {
   "cell_type": "markdown",
   "id": "550dd6ea",
   "metadata": {},
   "source": [
    "15..What happens if the model performs well on the training data but fails to generalize the results to new situations? Can you think of three different options ?"
   ]
  },
  {
   "cell_type": "markdown",
   "id": "b954db30",
   "metadata": {},
   "source": [
    "#ans.\n",
    " If the model performs poorly to new instances, then it has overfitted on the training data. To solve this, we can do any of the following three:\n",
    "\n",
    "Get more data\n",
    "Implement a simpler model\n",
    "Eliminate outliers or noise from the existing data set."
   ]
  },
  {
   "cell_type": "code",
   "execution_count": null,
   "id": "eda4164d",
   "metadata": {},
   "outputs": [],
   "source": [
    "16.What exactly is a test set, and why would you need one ?"
   ]
  },
  {
   "cell_type": "markdown",
   "id": "a29d57e8",
   "metadata": {},
   "source": [
    "#ans.\n",
    "Test set is a set to test your model (fit using training data) to see how it performs.Test set is necessary to determine how good (or bad) a model performs."
   ]
  },
  {
   "cell_type": "code",
   "execution_count": null,
   "id": "1e521bb9",
   "metadata": {},
   "outputs": [],
   "source": [
    "17.What is a validation set's purpose ?"
   ]
  },
  {
   "cell_type": "markdown",
   "id": "d6d28f00",
   "metadata": {},
   "source": [
    "#ans.\n",
    "Validation set is a set used to compare between different training models."
   ]
  },
  {
   "cell_type": "code",
   "execution_count": null,
   "id": "03d6db9a",
   "metadata": {},
   "outputs": [],
   "source": [
    "18..What precisely is the train-dev kit, when will you need it, how do you put it to use ?"
   ]
  },
  {
   "cell_type": "markdown",
   "id": "3d19333b",
   "metadata": {},
   "source": [
    "#ans.\n",
    "Cross-validation is a tool to compare models without needing a separate validation set. It is preferred over validation set because we can save from breaking of part of the training set to create a validation set, as having more data is valuable regardless"
   ]
  },
  {
   "cell_type": "code",
   "execution_count": null,
   "id": "be964a60",
   "metadata": {},
   "outputs": [],
   "source": [
    "19..What could go wrong if you use the test set to tune hyperparameters ?"
   ]
  },
  {
   "cell_type": "markdown",
   "id": "a9d675e8",
   "metadata": {},
   "source": [
    "#ans.\n",
    "If you tune hyperparameters using the test sets, then it may not perform well on the out-of-sample data because the model is tuned just for that specific set."
   ]
  },
  {
   "cell_type": "code",
   "execution_count": null,
   "id": "066f3687",
   "metadata": {},
   "outputs": [],
   "source": []
  }
 ],
 "metadata": {
  "kernelspec": {
   "display_name": "Python 3 (ipykernel)",
   "language": "python",
   "name": "python3"
  },
  "language_info": {
   "codemirror_mode": {
    "name": "ipython",
    "version": 3
   },
   "file_extension": ".py",
   "mimetype": "text/x-python",
   "name": "python",
   "nbconvert_exporter": "python",
   "pygments_lexer": "ipython3",
   "version": "3.9.7"
  }
 },
 "nbformat": 4,
 "nbformat_minor": 5
}
